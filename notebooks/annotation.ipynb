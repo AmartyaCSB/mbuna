{
 "cells": [
  {
   "cell_type": "code",
   "execution_count": 1,
   "metadata": {},
   "outputs": [],
   "source": [
    "from constants import DATA_DIR\n",
    "from credentials import FIFTYONE_CVAT_USERNAME, FIFTYONE_CVAT_PASSWORD\n",
    "import fiftyone as fo\n",
    "import fiftyone.brain as fob\n",
    "import os\n",
    "import cv2\n",
    "import datetime\n",
    "import numpy as np\n",
    "import fiftyone.utils.splits as fous"
   ]
  },
  {
   "cell_type": "code",
   "execution_count": 2,
   "metadata": {},
   "outputs": [],
   "source": [
    "!export FIFTYONE_CVAT_USERNAME=FIFTYONE_CVAT_USERNAME\n",
    "!export FIFTYONE_CVAT_PASSWORD=FIFTYONE_CVAT_PASSWORD"
   ]
  },
  {
   "cell_type": "code",
   "execution_count": 3,
   "metadata": {},
   "outputs": [],
   "source": [
    "dataset_dir = os.path.join(DATA_DIR, 'rock')\n",
    "img_dir = os.path.join(dataset_dir, 'images')\n",
    "name = 'rock'"
   ]
  },
  {
   "cell_type": "code",
   "execution_count": 4,
   "metadata": {},
   "outputs": [],
   "source": [
    "if name in fo.list_datasets():\n",
    "    fo.delete_dataset(name)"
   ]
  },
  {
   "cell_type": "code",
   "execution_count": 5,
   "metadata": {},
   "outputs": [
    {
     "name": "stdout",
     "output_type": "stream",
     "text": [
      " 100% |███████████████| 1907/1907 [336.0ms elapsed, 0s remaining, 5.7K samples/s]      \n"
     ]
    }
   ],
   "source": [
    "dataset = fo.Dataset.from_dir(\n",
    "    dataset_dir=img_dir,\n",
    "    dataset_type=fo.types.ImageDirectory,\n",
    "    name=name,\n",
    ")"
   ]
  },
  {
   "cell_type": "code",
   "execution_count": 6,
   "metadata": {},
   "outputs": [],
   "source": [
    "dataset.persistent = True\n",
    "# results = fob.compute_similarity(dataset, brain_key=\"img_sim\")"
   ]
  },
  {
   "cell_type": "code",
   "execution_count": 12,
   "metadata": {},
   "outputs": [],
   "source": [
    "sample = dataset.take(1).first()"
   ]
  },
  {
   "cell_type": "code",
   "execution_count": 13,
   "metadata": {},
   "outputs": [
    {
     "data": {
      "text/plain": [
       "<SampleView: {\n",
       "    'id': '620178534907a0f15aa61fe7',\n",
       "    'media_type': 'image',\n",
       "    'filepath': '/home/tlancaster6/PycharmProjects/mbuna/datasets/rock/images/rockBHVE_t017_LF_012522_0005_vid_15_27000_00-15-00.00.jpg',\n",
       "    'tags': BaseList([]),\n",
       "    'metadata': None,\n",
       "    'pid': 'rockBHVE_t017_LF_012522',\n",
       "    'start_date': '012522',\n",
       "    'vid': '0005_vid',\n",
       "    'step': 15,\n",
       "    'frame': 27000,\n",
       "    'time': '00-15-00',\n",
       "}>"
      ]
     },
     "execution_count": 13,
     "metadata": {},
     "output_type": "execute_result"
    }
   ],
   "source": [
    "sample"
   ]
  },
  {
   "cell_type": "code",
   "execution_count": 11,
   "metadata": {},
   "outputs": [],
   "source": [
    "for sample in dataset:\n",
    "    fname_split = sample.filepath.split('/')[-1].split('_')\n",
    "    sample['pid'] = '_'.join(fname_split[:4])\n",
    "    sample['start_date'] = fname_split[3]\n",
    "    sample['vid'] = '_'.join(fname_split[4:6])\n",
    "    sample['step'] = int(fname_split[6])\n",
    "    sample['frame'] = int(fname_split[7])\n",
    "    sample['time'] = fname_split[8].split('.')[0]\n",
    "    sample.save()\n"
   ]
  },
  {
   "cell_type": "code",
   "execution_count": 34,
   "metadata": {},
   "outputs": [
    {
     "name": "stdout",
     "output_type": "stream",
     "text": [
      "Computing embeddings...\n",
      " 100% |███████████████| 1907/1907 [8.9m elapsed, 0s remaining, 3.9 samples/s]      \n",
      "Generating visualization...\n",
      "UMAP(random_state=51, verbose=True)\n",
      "Thu Feb  3 13:40:47 2022 Construct fuzzy simplicial set\n",
      "Thu Feb  3 13:40:48 2022 Finding Nearest Neighbors\n",
      "Thu Feb  3 13:40:48 2022 Finished Nearest Neighbor Search\n",
      "Thu Feb  3 13:40:48 2022 Construct embedding\n"
     ]
    },
    {
     "data": {
      "application/vnd.jupyter.widget-view+json": {
       "model_id": "387c66b8124c4392bd5c974fe1290184",
       "version_major": 2,
       "version_minor": 0
      },
      "text/plain": [
       "Epochs completed:   0%|            0/500 [00:00]"
      ]
     },
     "metadata": {},
     "output_type": "display_data"
    },
    {
     "name": "stdout",
     "output_type": "stream",
     "text": [
      "Thu Feb  3 13:40:53 2022 Finished embedding\n"
     ]
    },
    {
     "data": {
      "text/plain": []
     },
     "metadata": {},
     "output_type": "display_data"
    },
    {
     "data": {
      "text/plain": []
     },
     "metadata": {},
     "output_type": "display_data"
    },
    {
     "data": {
      "application/vnd.jupyter.widget-view+json": {
       "model_id": "ae7f9cc9a284404aaa6f94fd33829a37",
       "version_major": 2,
       "version_minor": 0
      },
      "text/plain": [
       "FigureWidget({\n",
       "    'data': [{'customdata': array(['61fbf27b263fcabef29a0a45', '61fbf27b263fcabef29a0a46',\n",
       "    …"
      ]
     },
     "metadata": {},
     "output_type": "display_data"
    }
   ],
   "source": [
    "results = fob.compute_visualization(\n",
    "    dataset,\n",
    "    num_dims=2,\n",
    "    brain_key=\"image_embeddings\",\n",
    "    verbose=True,\n",
    "    seed=51,\n",
    ")\n",
    "plot = results.visualize(labels=\"pid\")\n",
    "plot.show(height=720)"
   ]
  },
  {
   "cell_type": "code",
   "execution_count": 31,
   "metadata": {},
   "outputs": [
    {
     "name": "stdout",
     "output_type": "stream",
     "text": [
      "Computing embeddings...\n",
      " 100% |███████████████| 1907/1907 [8.4m elapsed, 0s remaining, 4.1 samples/s]      \n",
      "Generating visualization...\n",
      "UMAP( verbose=True)\n",
      "Thu Feb  3 11:02:15 2022 Construct fuzzy simplicial set\n",
      "Thu Feb  3 11:02:17 2022 Finding Nearest Neighbors\n",
      "Thu Feb  3 11:02:19 2022 Finished Nearest Neighbor Search\n",
      "Thu Feb  3 11:02:21 2022 Construct embedding\n"
     ]
    },
    {
     "data": {
      "application/vnd.jupyter.widget-view+json": {
       "model_id": "5156e43320574b34a30c285a930f51cd",
       "version_major": 2,
       "version_minor": 0
      },
      "text/plain": [
       "Epochs completed:   0%|            0/500 [00:00]"
      ]
     },
     "metadata": {},
     "output_type": "display_data"
    },
    {
     "name": "stdout",
     "output_type": "stream",
     "text": [
      "Thu Feb  3 11:02:25 2022 Finished embedding\n",
      "Generating index...\n",
      "Index complete\n",
      "Computing unique samples...\n",
      "threshold: 1.000000, kept: 960, target: 50\n",
      "threshold: 2.000000, kept: 81, target: 50\n",
      "threshold: 4.000000, kept: 15, target: 50\n",
      "threshold: 3.000000, kept: 39, target: 50\n",
      "threshold: 2.500000, kept: 54, target: 50\n",
      "threshold: 2.750000, kept: 46, target: 50\n",
      "threshold: 2.625000, kept: 50, target: 50\n",
      "Uniqueness computation complete\n"
     ]
    },
    {
     "data": {
      "text/plain": []
     },
     "metadata": {},
     "output_type": "display_data"
    },
    {
     "data": {
      "text/plain": []
     },
     "metadata": {},
     "output_type": "display_data"
    },
    {
     "data": {
      "application/vnd.jupyter.widget-view+json": {
       "model_id": "2e294b19c4834729a3f62dbf6354847e",
       "version_major": 2,
       "version_minor": 0
      },
      "text/plain": [
       "FigureWidget({\n",
       "    'data': [{'customdata': array(['61fbf27b263fcabef29a0a47', '61fbf27b263fcabef29a0a48',\n",
       "    …"
      ]
     },
     "metadata": {},
     "output_type": "display_data"
    },
    {
     "name": "stdout",
     "output_type": "stream",
     "text": [
      "Computing unique samples...\n",
      "threshold: 1.000000, kept: 960, target: 100\n",
      "threshold: 2.000000, kept: 81, target: 100\n",
      "threshold: 1.500000, kept: 184, target: 100\n",
      "threshold: 1.750000, kept: 107, target: 100\n",
      "threshold: 1.875000, kept: 94, target: 100\n",
      "threshold: 1.812500, kept: 98, target: 100\n",
      "threshold: 1.781250, kept: 102, target: 100\n",
      "threshold: 1.796875, kept: 101, target: 100\n",
      "threshold: 1.804688, kept: 99, target: 100\n",
      "threshold: 1.800781, kept: 101, target: 100\n",
      "threshold: 1.802734, kept: 100, target: 100\n",
      "Uniqueness computation complete\n"
     ]
    },
    {
     "data": {
      "text/plain": []
     },
     "metadata": {},
     "output_type": "display_data"
    },
    {
     "data": {
      "text/plain": []
     },
     "metadata": {},
     "output_type": "display_data"
    },
    {
     "data": {
      "application/vnd.jupyter.widget-view+json": {
       "model_id": "14fa6441da7846d7bb77de42118cb2e3",
       "version_major": 2,
       "version_minor": 0
      },
      "text/plain": [
       "FigureWidget({\n",
       "    'data': [{'customdata': array(['61fbf27b263fcabef29a0a47', '61fbf27b263fcabef29a0a48',\n",
       "    …"
      ]
     },
     "metadata": {},
     "output_type": "display_data"
    },
    {
     "name": "stdout",
     "output_type": "stream",
     "text": [
      "Computing unique samples...\n",
      "threshold: 1.000000, kept: 960, target: 250\n",
      "threshold: 2.000000, kept: 81, target: 250\n",
      "threshold: 1.500000, kept: 184, target: 250\n",
      "threshold: 1.250000, kept: 370, target: 250\n",
      "threshold: 1.375000, kept: 249, target: 250\n",
      "threshold: 1.312500, kept: 301, target: 250\n",
      "threshold: 1.343750, kept: 269, target: 250\n",
      "threshold: 1.359375, kept: 258, target: 250\n",
      "threshold: 1.367188, kept: 256, target: 250\n",
      "threshold: 1.371094, kept: 251, target: 250\n",
      "threshold: 1.373047, kept: 251, target: 250\n",
      "threshold: 1.374023, kept: 249, target: 250\n",
      "threshold: 1.373535, kept: 250, target: 250\n",
      "Uniqueness computation complete\n"
     ]
    },
    {
     "data": {
      "text/plain": []
     },
     "metadata": {},
     "output_type": "display_data"
    },
    {
     "data": {
      "text/plain": []
     },
     "metadata": {},
     "output_type": "display_data"
    },
    {
     "data": {
      "application/vnd.jupyter.widget-view+json": {
       "model_id": "72eaa404d30c416a908195ca1ed7c629",
       "version_major": 2,
       "version_minor": 0
      },
      "text/plain": [
       "FigureWidget({\n",
       "    'data': [{'customdata': array(['61fbf27b263fcabef29a0a47', '61fbf27b263fcabef29a0a48',\n",
       "    …"
      ]
     },
     "metadata": {},
     "output_type": "display_data"
    },
    {
     "name": "stdout",
     "output_type": "stream",
     "text": [
      "Computing unique samples...\n",
      "threshold: 1.000000, kept: 960, target: 500\n",
      "threshold: 2.000000, kept: 81, target: 500\n",
      "threshold: 1.500000, kept: 184, target: 500\n",
      "threshold: 1.250000, kept: 370, target: 500\n",
      "threshold: 1.125000, kept: 590, target: 500\n",
      "threshold: 1.187500, kept: 472, target: 500\n",
      "threshold: 1.156250, kept: 519, target: 500\n",
      "threshold: 1.171875, kept: 492, target: 500\n",
      "threshold: 1.164062, kept: 511, target: 500\n",
      "threshold: 1.167969, kept: 500, target: 500\n",
      "Uniqueness computation complete\n"
     ]
    },
    {
     "data": {
      "text/plain": []
     },
     "metadata": {},
     "output_type": "display_data"
    },
    {
     "data": {
      "text/plain": []
     },
     "metadata": {},
     "output_type": "display_data"
    },
    {
     "data": {
      "application/vnd.jupyter.widget-view+json": {
       "model_id": "230a9e2068924c4689a063b336f9fe05",
       "version_major": 2,
       "version_minor": 0
      },
      "text/plain": [
       "FigureWidget({\n",
       "    'data': [{'customdata': array(['61fbf27b263fcabef29a0a47', '61fbf27b263fcabef29a0a48',\n",
       "    …"
      ]
     },
     "metadata": {},
     "output_type": "display_data"
    },
    {
     "name": "stdout",
     "output_type": "stream",
     "text": [
      "Computing unique samples...\n",
      "threshold: 1.000000, kept: 960, target: 1000\n",
      "threshold: 0.500000, kept: 1907, target: 1000\n",
      "threshold: 0.750000, kept: 1792, target: 1000\n",
      "threshold: 0.875000, kept: 1435, target: 1000\n",
      "threshold: 0.937500, kept: 1188, target: 1000\n",
      "threshold: 0.968750, kept: 1071, target: 1000\n",
      "threshold: 0.984375, kept: 1014, target: 1000\n",
      "threshold: 0.992188, kept: 989, target: 1000\n",
      "threshold: 0.988281, kept: 998, target: 1000\n",
      "threshold: 0.986328, kept: 1007, target: 1000\n",
      "threshold: 0.987305, kept: 1002, target: 1000\n",
      "threshold: 0.987793, kept: 999, target: 1000\n",
      "threshold: 0.987549, kept: 1001, target: 1000\n",
      "threshold: 0.987671, kept: 1001, target: 1000\n",
      "threshold: 0.987732, kept: 999, target: 1000\n",
      "threshold: 0.987701, kept: 999, target: 1000\n",
      "threshold: 0.987686, kept: 999, target: 1000\n",
      "threshold: 0.987679, kept: 999, target: 1000\n",
      "threshold: 0.987675, kept: 999, target: 1000\n",
      "threshold: 0.987673, kept: 1001, target: 1000\n",
      "threshold: 0.987674, kept: 1000, target: 1000\n",
      "Uniqueness computation complete\n"
     ]
    },
    {
     "data": {
      "text/plain": []
     },
     "metadata": {},
     "output_type": "display_data"
    },
    {
     "data": {
      "text/plain": []
     },
     "metadata": {},
     "output_type": "display_data"
    },
    {
     "data": {
      "application/vnd.jupyter.widget-view+json": {
       "model_id": "f2997c1eee44458386a66b450afaf6bf",
       "version_major": 2,
       "version_minor": 0
      },
      "text/plain": [
       "FigureWidget({\n",
       "    'data': [{'customdata': array(['61fbf27b263fcabef29a0a47', '61fbf27b263fcabef29a0a48',\n",
       "    …"
      ]
     },
     "metadata": {},
     "output_type": "display_data"
    }
   ],
   "source": [
    "vis_results = fob.compute_visualization(dataset, brain_key=\"img_vis\")\n",
    "for n in [50, 100, 250, 500, 1000]:\n",
    "    results.find_unique(n)\n",
    "    plot = results.visualize_unique(visualization=vis_results)\n",
    "    view = dataset.select(results.unique_ids)\n",
    "    for sample in view:\n",
    "        sample.tags.append(f'top_{n}_unique')\n",
    "        sample.save()\n",
    "    plot = results.visualize_unique(visualization=vis_results)\n",
    "    plot.show()"
   ]
  },
  {
   "cell_type": "code",
   "execution_count": 14,
   "metadata": {},
   "outputs": [
    {
     "data": {
      "text/html": [
       "\n",
       "        <iframe\n",
       "            width=\"100%\"\n",
       "            height=\"800\"\n",
       "            src=\"http://localhost:5151/?notebook=true&handleId=32d5b8c9-0d72-471a-872b-64c06ba85ef8\"\n",
       "            frameborder=\"0\"\n",
       "            allowfullscreen\n",
       "            \n",
       "        ></iframe>\n",
       "        "
      ],
      "text/plain": [
       "<IPython.lib.display.IFrame at 0x7fa286538d00>"
      ]
     },
     "metadata": {},
     "output_type": "display_data"
    }
   ],
   "source": [
    "view = dataset.take(100)\n",
    "session = fo.launch_app(view)"
   ]
  },
  {
   "cell_type": "code",
   "execution_count": null,
   "metadata": {},
   "outputs": [],
   "source": []
  },
  {
   "cell_type": "code",
   "execution_count": 15,
   "metadata": {},
   "outputs": [
    {
     "name": "stdout",
     "output_type": "stream",
     "text": [
      "Please enter your login credentials.\n",
      "You can avoid this in the future by setting your `FIFTYONE_CVAT_USERNAME` and `FIFTYONE_CVAT_PASSWORD` environment variables\n",
      "Username: tlancaster6\n",
      "Password: ········\n",
      "Uploading samples to CVAT...\n",
      "Computing image metadata...\n",
      " 100% |█████████████████| 100/100 [844.0ms elapsed, 0s remaining, 118.5 samples/s]      \n",
      "Upload complete\n",
      "Please enter your login credentials.\n",
      "You can avoid this in the future by setting your `FIFTYONE_CVAT_USERNAME` and `FIFTYONE_CVAT_PASSWORD` environment variables\n",
      "Username: tlancaster6\n",
      "Password: ········\n",
      "Launching editor at 'https://cvat.org/tasks/196049/jobs/283169'...\n"
     ]
    }
   ],
   "source": [
    "anno_key = 'practice_anno'\n",
    "anno_results = view.annotate(\n",
    "    anno_key=anno_key,\n",
    "    label_type='detections',\n",
    "    label_field='ground_truth',\n",
    "    classes=['fish', 'pipe'],\n",
    "    launch_editor=True\n",
    ")\n"
   ]
  },
  {
   "cell_type": "code",
   "execution_count": 16,
   "metadata": {},
   "outputs": [
    {
     "data": {
      "text/plain": [
       "['practice_anno']"
      ]
     },
     "execution_count": 16,
     "metadata": {},
     "output_type": "execute_result"
    }
   ],
   "source": [
    "dataset.list_annotation_runs()"
   ]
  },
  {
   "cell_type": "code",
   "execution_count": 17,
   "metadata": {},
   "outputs": [
    {
     "name": "stdout",
     "output_type": "stream",
     "text": [
      "Please enter your login credentials.\n",
      "You can avoid this in the future by setting your `FIFTYONE_CVAT_USERNAME` and `FIFTYONE_CVAT_PASSWORD` environment variables\n",
      "Username: tlancaster6\n",
      "Password: ········\n",
      "Downloading labels from CVAT...\n",
      "Download complete\n",
      "Loading labels for field 'ground_truth'...\n",
      " 100% |█████████████████████| 4/4 [17.5ms elapsed, 0s remaining, 229.2 samples/s] \n"
     ]
    }
   ],
   "source": [
    "dataset.load_annotations(anno_key)"
   ]
  },
  {
   "cell_type": "code",
   "execution_count": 18,
   "metadata": {},
   "outputs": [],
   "source": [
    "dataset.save()"
   ]
  },
  {
   "cell_type": "code",
   "execution_count": 19,
   "metadata": {},
   "outputs": [
    {
     "data": {
      "text/plain": [
       "<Sample: {\n",
       "    'id': '620178534907a0f15aa618bf',\n",
       "    'media_type': 'image',\n",
       "    'filepath': '/home/tlancaster6/PycharmProjects/mbuna/datasets/rock/images/rockBHVE_t003_MZalbino_012522_0001_vid_15_0_00-00-00.00.jpg',\n",
       "    'tags': BaseList([]),\n",
       "    'metadata': None,\n",
       "    'pid': 'rockBHVE_t003_MZalbino_012522',\n",
       "    'start_date': '012522',\n",
       "    'vid': '0001_vid',\n",
       "    'step': 15,\n",
       "    'frame': 0,\n",
       "    'time': '00-00-00',\n",
       "    'ground_truth': None,\n",
       "}>"
      ]
     },
     "execution_count": 19,
     "metadata": {},
     "output_type": "execute_result"
    }
   ],
   "source": [
    "dataset.first()"
   ]
  },
  {
   "cell_type": "code",
   "execution_count": 56,
   "metadata": {},
   "outputs": [],
   "source": [
    "fous.random_split(dataset, {\"train\": 0.7, \"val\": 0.2, 'test': 0.1})"
   ]
  },
  {
   "cell_type": "code",
   "execution_count": 61,
   "metadata": {},
   "outputs": [
    {
     "name": "stdout",
     "output_type": "stream",
     "text": [
      " 100% |███████████████████| 75/75 [148.8ms elapsed, 0s remaining, 503.9 samples/s]     \n",
      "Directory '/home/tlancaster6/PycharmProjects/mbuna/datasets/practice_anno' already exists; export will be merged with existing files\n",
      " 100% |███████████████████| 25/25 [53.6ms elapsed, 0s remaining, 466.4 samples/s] \n"
     ]
    }
   ],
   "source": [
    "train_view = dataset.match_tags.match_tags('train')\n",
    "val_view = dataset.match_tags.match_tags('val')\n",
    "train_view.export(os.path.join(DATA_DIR, 'practice_anno'), \n",
    "           dataset_type=fo.types.YOLOv5Dataset,\n",
    "           label_field='ground_truth', split='train')\n",
    "val_view.export(os.path.join(DATA_DIR, 'practice_anno'), \n",
    "           dataset_type=fo.types.YOLOv5Dataset,\n",
    "           label_field='ground_truth', split='val')"
   ]
  },
  {
   "cell_type": "code",
   "execution_count": null,
   "metadata": {},
   "outputs": [],
   "source": []
  }
 ],
 "metadata": {
  "kernelspec": {
   "display_name": "Python 3 (ipykernel)",
   "language": "python",
   "name": "python3"
  },
  "language_info": {
   "codemirror_mode": {
    "name": "ipython",
    "version": 3
   },
   "file_extension": ".py",
   "mimetype": "text/x-python",
   "name": "python",
   "nbconvert_exporter": "python",
   "pygments_lexer": "ipython3",
   "version": "3.9.10"
  }
 },
 "nbformat": 4,
 "nbformat_minor": 4
}
