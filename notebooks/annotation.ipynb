{
 "cells": [
  {
   "cell_type": "code",
   "execution_count": 1,
   "metadata": {},
   "outputs": [],
   "source": [
    "from constants import DATA_DIR\n",
    "import fiftyone as fo\n",
    "import fiftyone.brain as fob\n",
    "import os"
   ]
  },
  {
   "cell_type": "code",
   "execution_count": 2,
   "metadata": {},
   "outputs": [],
   "source": [
    "!export FIFTYONE_CVAT_USERNAME='tlancaster6'\n",
    "!export FIFTYONE_CVAT_PASSWORD='8mcqdK8#97%v'"
   ]
  },
  {
   "cell_type": "code",
   "execution_count": 3,
   "metadata": {},
   "outputs": [],
   "source": [
    "dataset_dir = os.path.join(DATA_DIR, 'kl')\n",
    "img_dir = os.path.join(dataset_dir, 'images')\n",
    "name = 'kl'"
   ]
  },
  {
   "cell_type": "code",
   "execution_count": 4,
   "metadata": {},
   "outputs": [],
   "source": [
    "if name in fo.list_datasets():\n",
    "    fo.delete_dataset(name)"
   ]
  },
  {
   "cell_type": "code",
   "execution_count": 5,
   "metadata": {},
   "outputs": [
    {
     "name": "stdout",
     "output_type": "stream",
     "text": [
      " 100% |█████████████| 33934/33934 [5.3s elapsed, 0s remaining, 6.7K samples/s]      \n"
     ]
    }
   ],
   "source": [
    "dataset = fo.Dataset.from_dir(\n",
    "    dataset_dir=img_dir,\n",
    "    dataset_type=fo.types.ImageDirectory,\n",
    "    name=name,\n",
    ")"
   ]
  },
  {
   "cell_type": "code",
   "execution_count": null,
   "metadata": {},
   "outputs": [
    {
     "name": "stdout",
     "output_type": "stream",
     "text": [
      "Downloading model from 'https://download.pytorch.org/models/mobilenet_v2-b0353104.pth'...\n",
      " 100% |████|  108.4Mb/108.4Mb [356.1ms elapsed, 0s remaining, 304.5Mb/s]      \n",
      "Computing embeddings...\n"
     ]
    },
    {
     "name": "stderr",
     "output_type": "stream",
     "text": [
      "/home/tlancaster6/PycharmProjects/mbuna/venv/lib/python3.9/site-packages/torch/cuda/__init__.py:80: UserWarning: CUDA initialization: The NVIDIA driver on your system is too old (found version 10010). Please update your GPU driver by downloading and installing a new version from the URL: http://www.nvidia.com/Download/index.aspx Alternatively, go to: https://pytorch.org to install a PyTorch version that has been compiled with your version of the CUDA driver. (Triggered internally at  ../c10/cuda/CUDAFunctions.cpp:112.)\n",
      "  return torch._C._cuda_getDeviceCount() > 0\n"
     ]
    },
    {
     "name": "stdout",
     "output_type": "stream",
     "text": [
      "  40% |█████\\-------| 13512/33934 [57.5m elapsed, 1.4h remaining, 4.1 samples/s]   "
     ]
    }
   ],
   "source": [
    "dataset.persistent = True\n",
    "results = fob.compute_similarity(dataset, brain_key=\"img_sim\")"
   ]
  },
  {
   "cell_type": "code",
   "execution_count": null,
   "metadata": {},
   "outputs": [],
   "source": [
    "session = fo.launch_app(dataset)"
   ]
  },
  {
   "cell_type": "code",
   "execution_count": null,
   "metadata": {},
   "outputs": [],
   "source": []
  },
  {
   "cell_type": "code",
   "execution_count": null,
   "metadata": {},
   "outputs": [],
   "source": [
    "anno_key = 'demo_anno'\n",
    "anno_results = dataset.annotate(\n",
    "    anno_key=anno_key,\n",
    "    label_type='detections',\n",
    "    label_field='sex',\n",
    "    classes=['male', 'female'],\n",
    "    launch_editor=True\n",
    ")"
   ]
  }
 ],
 "metadata": {
  "kernelspec": {
   "display_name": "Python 3 (ipykernel)",
   "language": "python",
   "name": "python3"
  },
  "language_info": {
   "codemirror_mode": {
    "name": "ipython",
    "version": 3
   },
   "file_extension": ".py",
   "mimetype": "text/x-python",
   "name": "python",
   "nbconvert_exporter": "python",
   "pygments_lexer": "ipython3",
   "version": "3.9.10"
  }
 },
 "nbformat": 4,
 "nbformat_minor": 4
}
