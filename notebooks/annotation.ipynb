{
 "cells": [
  {
   "cell_type": "code",
   "execution_count": 1,
   "metadata": {},
   "outputs": [
    {
     "name": "stdout",
     "output_type": "stream",
     "text": [
      "Requirement already satisfied: fiftyone in /Users/tuckerlancaster/PycharmProjects/mbuna/venv/lib/python3.9/site-packages (0.14.3)\n",
      "Requirement already satisfied: eventlet in /Users/tuckerlancaster/PycharmProjects/mbuna/venv/lib/python3.9/site-packages (from fiftyone) (0.33.0)\n",
      "Requirement already satisfied: fiftyone-brain<0.8,>=0.7.3 in /Users/tuckerlancaster/PycharmProjects/mbuna/venv/lib/python3.9/site-packages (from fiftyone) (0.7.3)\n",
      "Requirement already satisfied: packaging in /Users/tuckerlancaster/PycharmProjects/mbuna/venv/lib/python3.9/site-packages (from fiftyone) (21.3)\n",
      "Requirement already satisfied: Jinja2 in /Users/tuckerlancaster/PycharmProjects/mbuna/venv/lib/python3.9/site-packages (from fiftyone) (3.0.3)\n",
      "Requirement already satisfied: voxel51-eta<0.7,>=0.6.2 in /Users/tuckerlancaster/PycharmProjects/mbuna/venv/lib/python3.9/site-packages (from fiftyone) (0.6.2.2)\n",
      "Requirement already satisfied: fiftyone-db<0.4,>=0.3 in /Users/tuckerlancaster/PycharmProjects/mbuna/venv/lib/python3.9/site-packages (from fiftyone) (0.3.0)\n",
      "Requirement already satisfied: tornado<7,>=5.1.1 in /Users/tuckerlancaster/PycharmProjects/mbuna/venv/lib/python3.9/site-packages (from fiftyone) (6.1)\n",
      "Requirement already satisfied: PyYAML in /Users/tuckerlancaster/PycharmProjects/mbuna/venv/lib/python3.9/site-packages (from fiftyone) (6.0)\n",
      "Requirement already satisfied: setuptools in /Users/tuckerlancaster/PycharmProjects/mbuna/venv/lib/python3.9/site-packages (from fiftyone) (57.0.0)\n",
      "Requirement already satisfied: tabulate in /Users/tuckerlancaster/PycharmProjects/mbuna/venv/lib/python3.9/site-packages (from fiftyone) (0.8.9)\n",
      "Requirement already satisfied: matplotlib in /Users/tuckerlancaster/PycharmProjects/mbuna/venv/lib/python3.9/site-packages (from fiftyone) (3.5.1)\n",
      "Requirement already satisfied: scikit-learn in /Users/tuckerlancaster/PycharmProjects/mbuna/venv/lib/python3.9/site-packages (from fiftyone) (1.0.2)\n",
      "Requirement already satisfied: mongoengine==0.20.0 in /Users/tuckerlancaster/PycharmProjects/mbuna/venv/lib/python3.9/site-packages (from fiftyone) (0.20.0)\n",
      "Requirement already satisfied: xmltodict in /Users/tuckerlancaster/PycharmProjects/mbuna/venv/lib/python3.9/site-packages (from fiftyone) (0.12.0)\n",
      "Requirement already satisfied: retrying in /Users/tuckerlancaster/PycharmProjects/mbuna/venv/lib/python3.9/site-packages (from fiftyone) (1.3.3)\n",
      "Requirement already satisfied: aiofiles in /Users/tuckerlancaster/PycharmProjects/mbuna/venv/lib/python3.9/site-packages (from fiftyone) (0.8.0)\n",
      "Requirement already satisfied: kaleido in /Users/tuckerlancaster/PycharmProjects/mbuna/venv/lib/python3.9/site-packages (from fiftyone) (0.2.1)\n",
      "Requirement already satisfied: boto3 in /Users/tuckerlancaster/PycharmProjects/mbuna/venv/lib/python3.9/site-packages (from fiftyone) (1.20.40)\n",
      "Requirement already satisfied: psutil in /Users/tuckerlancaster/PycharmProjects/mbuna/venv/lib/python3.9/site-packages (from fiftyone) (5.9.0)\n",
      "Requirement already satisfied: plotly<5,>=4.14 in /Users/tuckerlancaster/PycharmProjects/mbuna/venv/lib/python3.9/site-packages (from fiftyone) (4.14.3)\n",
      "Requirement already satisfied: numpy in /Users/tuckerlancaster/PycharmProjects/mbuna/venv/lib/python3.9/site-packages (from fiftyone) (1.21.5)\n",
      "Requirement already satisfied: pymongo<4,>=3.11 in /Users/tuckerlancaster/PycharmProjects/mbuna/venv/lib/python3.9/site-packages (from fiftyone) (3.12.3)\n",
      "Requirement already satisfied: pandas in /Users/tuckerlancaster/PycharmProjects/mbuna/venv/lib/python3.9/site-packages (from fiftyone) (1.3.5)\n",
      "Requirement already satisfied: pprintpp in /Users/tuckerlancaster/PycharmProjects/mbuna/venv/lib/python3.9/site-packages (from fiftyone) (0.4.0)\n",
      "Requirement already satisfied: pytz in /Users/tuckerlancaster/PycharmProjects/mbuna/venv/lib/python3.9/site-packages (from fiftyone) (2021.3)\n",
      "Requirement already satisfied: Deprecated in /Users/tuckerlancaster/PycharmProjects/mbuna/venv/lib/python3.9/site-packages (from fiftyone) (1.2.13)\n",
      "Requirement already satisfied: scikit-image in /Users/tuckerlancaster/PycharmProjects/mbuna/venv/lib/python3.9/site-packages (from fiftyone) (0.19.1)\n",
      "Requirement already satisfied: future in /Users/tuckerlancaster/PycharmProjects/mbuna/venv/lib/python3.9/site-packages (from fiftyone) (0.18.2)\n",
      "Requirement already satisfied: Pillow>=6.2 in /Users/tuckerlancaster/PycharmProjects/mbuna/venv/lib/python3.9/site-packages (from fiftyone) (9.0.0)\n",
      "Requirement already satisfied: motor<3,>=2.3 in /Users/tuckerlancaster/PycharmProjects/mbuna/venv/lib/python3.9/site-packages (from fiftyone) (2.5.1)\n",
      "Requirement already satisfied: opencv-python-headless in /Users/tuckerlancaster/PycharmProjects/mbuna/venv/lib/python3.9/site-packages (from fiftyone) (4.5.5.62)\n",
      "Requirement already satisfied: universal-analytics-python3<2,>=1.0.1 in /Users/tuckerlancaster/PycharmProjects/mbuna/venv/lib/python3.9/site-packages (from fiftyone) (1.1.1)\n",
      "Requirement already satisfied: argcomplete in /Users/tuckerlancaster/PycharmProjects/mbuna/venv/lib/python3.9/site-packages (from fiftyone) (2.0.0)\n",
      "Requirement already satisfied: scipy>=1.2.0 in /Users/tuckerlancaster/PycharmProjects/mbuna/venv/lib/python3.9/site-packages (from fiftyone-brain<0.8,>=0.7.3->fiftyone) (1.7.3)\n",
      "Requirement already satisfied: six in /Users/tuckerlancaster/PycharmProjects/mbuna/venv/lib/python3.9/site-packages (from plotly<5,>=4.14->fiftyone) (1.16.0)\n",
      "Requirement already satisfied: httpx>=0.10.0 in /Users/tuckerlancaster/PycharmProjects/mbuna/venv/lib/python3.9/site-packages (from universal-analytics-python3<2,>=1.0.1->fiftyone) (0.21.3)\n",
      "Requirement already satisfied: dill in /Users/tuckerlancaster/PycharmProjects/mbuna/venv/lib/python3.9/site-packages (from voxel51-eta<0.7,>=0.6.2->fiftyone) (0.3.4)\n",
      "Requirement already satisfied: ndjson in /Users/tuckerlancaster/PycharmProjects/mbuna/venv/lib/python3.9/site-packages (from voxel51-eta<0.7,>=0.6.2->fiftyone) (0.3.1)\n",
      "Requirement already satisfied: glob2 in /Users/tuckerlancaster/PycharmProjects/mbuna/venv/lib/python3.9/site-packages (from voxel51-eta<0.7,>=0.6.2->fiftyone) (0.7)\n",
      "Requirement already satisfied: python-dateutil in /Users/tuckerlancaster/PycharmProjects/mbuna/venv/lib/python3.9/site-packages (from voxel51-eta<0.7,>=0.6.2->fiftyone) (2.8.2)\n",
      "Requirement already satisfied: sortedcontainers in /Users/tuckerlancaster/PycharmProjects/mbuna/venv/lib/python3.9/site-packages (from voxel51-eta<0.7,>=0.6.2->fiftyone) (2.4.0)\n",
      "Requirement already satisfied: patool in /Users/tuckerlancaster/PycharmProjects/mbuna/venv/lib/python3.9/site-packages (from voxel51-eta<0.7,>=0.6.2->fiftyone) (1.12)\n",
      "Requirement already satisfied: tzlocal in /Users/tuckerlancaster/PycharmProjects/mbuna/venv/lib/python3.9/site-packages (from voxel51-eta<0.7,>=0.6.2->fiftyone) (4.1)\n",
      "Requirement already satisfied: requests in /Users/tuckerlancaster/PycharmProjects/mbuna/venv/lib/python3.9/site-packages (from voxel51-eta<0.7,>=0.6.2->fiftyone) (2.27.1)\n",
      "Requirement already satisfied: jmespath<1.0.0,>=0.7.1 in /Users/tuckerlancaster/PycharmProjects/mbuna/venv/lib/python3.9/site-packages (from boto3->fiftyone) (0.10.0)\n",
      "Requirement already satisfied: botocore<1.24.0,>=1.23.40 in /Users/tuckerlancaster/PycharmProjects/mbuna/venv/lib/python3.9/site-packages (from boto3->fiftyone) (1.23.40)\n",
      "Requirement already satisfied: s3transfer<0.6.0,>=0.5.0 in /Users/tuckerlancaster/PycharmProjects/mbuna/venv/lib/python3.9/site-packages (from boto3->fiftyone) (0.5.0)\n",
      "Requirement already satisfied: wrapt<2,>=1.10 in /Users/tuckerlancaster/PycharmProjects/mbuna/venv/lib/python3.9/site-packages (from Deprecated->fiftyone) (1.13.3)\n",
      "Requirement already satisfied: dnspython>=1.15.0 in /Users/tuckerlancaster/PycharmProjects/mbuna/venv/lib/python3.9/site-packages (from eventlet->fiftyone) (2.2.0)\n",
      "Requirement already satisfied: greenlet>=0.3 in /Users/tuckerlancaster/PycharmProjects/mbuna/venv/lib/python3.9/site-packages (from eventlet->fiftyone) (1.1.2)\n",
      "Requirement already satisfied: MarkupSafe>=2.0 in /Users/tuckerlancaster/PycharmProjects/mbuna/venv/lib/python3.9/site-packages (from Jinja2->fiftyone) (2.0.1)\n",
      "Requirement already satisfied: fonttools>=4.22.0 in /Users/tuckerlancaster/PycharmProjects/mbuna/venv/lib/python3.9/site-packages (from matplotlib->fiftyone) (4.28.5)\n",
      "Requirement already satisfied: pyparsing>=2.2.1 in /Users/tuckerlancaster/PycharmProjects/mbuna/venv/lib/python3.9/site-packages (from matplotlib->fiftyone) (3.0.7)\n",
      "Requirement already satisfied: kiwisolver>=1.0.1 in /Users/tuckerlancaster/PycharmProjects/mbuna/venv/lib/python3.9/site-packages (from matplotlib->fiftyone) (1.3.2)\n",
      "Requirement already satisfied: cycler>=0.10 in /Users/tuckerlancaster/PycharmProjects/mbuna/venv/lib/python3.9/site-packages (from matplotlib->fiftyone) (0.11.0)\n"
     ]
    },
    {
     "name": "stdout",
     "output_type": "stream",
     "text": [
      "Requirement already satisfied: networkx>=2.2 in /Users/tuckerlancaster/PycharmProjects/mbuna/venv/lib/python3.9/site-packages (from scikit-image->fiftyone) (2.6.3)\n",
      "Requirement already satisfied: tifffile>=2019.7.26 in /Users/tuckerlancaster/PycharmProjects/mbuna/venv/lib/python3.9/site-packages (from scikit-image->fiftyone) (2021.11.2)\n",
      "Requirement already satisfied: PyWavelets>=1.1.1 in /Users/tuckerlancaster/PycharmProjects/mbuna/venv/lib/python3.9/site-packages (from scikit-image->fiftyone) (1.2.0)\n",
      "Requirement already satisfied: imageio>=2.4.1 in /Users/tuckerlancaster/PycharmProjects/mbuna/venv/lib/python3.9/site-packages (from scikit-image->fiftyone) (2.14.0)\n",
      "Requirement already satisfied: threadpoolctl>=2.0.0 in /Users/tuckerlancaster/PycharmProjects/mbuna/venv/lib/python3.9/site-packages (from scikit-learn->fiftyone) (3.0.0)\n",
      "Requirement already satisfied: joblib>=0.11 in /Users/tuckerlancaster/PycharmProjects/mbuna/venv/lib/python3.9/site-packages (from scikit-learn->fiftyone) (1.1.0)\n",
      "Requirement already satisfied: urllib3<1.27,>=1.25.4 in /Users/tuckerlancaster/PycharmProjects/mbuna/venv/lib/python3.9/site-packages (from botocore<1.24.0,>=1.23.40->boto3->fiftyone) (1.26.8)\n",
      "Requirement already satisfied: sniffio in /Users/tuckerlancaster/PycharmProjects/mbuna/venv/lib/python3.9/site-packages (from httpx>=0.10.0->universal-analytics-python3<2,>=1.0.1->fiftyone) (1.2.0)\n",
      "Requirement already satisfied: rfc3986[idna2008]<2,>=1.3 in /Users/tuckerlancaster/PycharmProjects/mbuna/venv/lib/python3.9/site-packages (from httpx>=0.10.0->universal-analytics-python3<2,>=1.0.1->fiftyone) (1.5.0)\n",
      "Requirement already satisfied: httpcore<0.15.0,>=0.14.0 in /Users/tuckerlancaster/PycharmProjects/mbuna/venv/lib/python3.9/site-packages (from httpx>=0.10.0->universal-analytics-python3<2,>=1.0.1->fiftyone) (0.14.5)\n",
      "Requirement already satisfied: certifi in /Users/tuckerlancaster/PycharmProjects/mbuna/venv/lib/python3.9/site-packages (from httpx>=0.10.0->universal-analytics-python3<2,>=1.0.1->fiftyone) (2021.10.8)\n",
      "Requirement already satisfied: charset-normalizer in /Users/tuckerlancaster/PycharmProjects/mbuna/venv/lib/python3.9/site-packages (from httpx>=0.10.0->universal-analytics-python3<2,>=1.0.1->fiftyone) (2.0.10)\n",
      "Requirement already satisfied: idna<4,>=2.5 in /Users/tuckerlancaster/PycharmProjects/mbuna/venv/lib/python3.9/site-packages (from requests->voxel51-eta<0.7,>=0.6.2->fiftyone) (3.3)\n",
      "Requirement already satisfied: pytz-deprecation-shim in /Users/tuckerlancaster/PycharmProjects/mbuna/venv/lib/python3.9/site-packages (from tzlocal->voxel51-eta<0.7,>=0.6.2->fiftyone) (0.1.0.post0)\n",
      "Requirement already satisfied: h11<0.13,>=0.11 in /Users/tuckerlancaster/PycharmProjects/mbuna/venv/lib/python3.9/site-packages (from httpcore<0.15.0,>=0.14.0->httpx>=0.10.0->universal-analytics-python3<2,>=1.0.1->fiftyone) (0.12.0)\n",
      "Requirement already satisfied: anyio==3.* in /Users/tuckerlancaster/PycharmProjects/mbuna/venv/lib/python3.9/site-packages (from httpcore<0.15.0,>=0.14.0->httpx>=0.10.0->universal-analytics-python3<2,>=1.0.1->fiftyone) (3.5.0)\n",
      "Requirement already satisfied: tzdata in /Users/tuckerlancaster/PycharmProjects/mbuna/venv/lib/python3.9/site-packages (from pytz-deprecation-shim->tzlocal->voxel51-eta<0.7,>=0.6.2->fiftyone) (2021.5)\n"
     ]
    },
    {
     "ename": "ModuleNotFoundError",
     "evalue": "No module named 'fiftyone'",
     "output_type": "error",
     "traceback": [
      "\u001b[0;31m---------------------------------------------------------------------------\u001b[0m",
      "\u001b[0;31mModuleNotFoundError\u001b[0m                       Traceback (most recent call last)",
      "\u001b[0;32m<ipython-input-1-1f67646971eb>\u001b[0m in \u001b[0;36m<module>\u001b[0;34m\u001b[0m\n\u001b[1;32m      1\u001b[0m \u001b[0mget_ipython\u001b[0m\u001b[0;34m(\u001b[0m\u001b[0;34m)\u001b[0m\u001b[0;34m.\u001b[0m\u001b[0msystem\u001b[0m\u001b[0;34m(\u001b[0m\u001b[0;34m'pip install fiftyone'\u001b[0m\u001b[0;34m)\u001b[0m\u001b[0;34m\u001b[0m\u001b[0;34m\u001b[0m\u001b[0m\n\u001b[1;32m      2\u001b[0m \u001b[0;32mfrom\u001b[0m \u001b[0mconstants\u001b[0m \u001b[0;32mimport\u001b[0m \u001b[0mDATA_DIR\u001b[0m\u001b[0;34m\u001b[0m\u001b[0;34m\u001b[0m\u001b[0m\n\u001b[0;32m----> 3\u001b[0;31m \u001b[0;32mimport\u001b[0m \u001b[0mfiftyone\u001b[0m \u001b[0;32mas\u001b[0m \u001b[0mfo\u001b[0m\u001b[0;34m\u001b[0m\u001b[0;34m\u001b[0m\u001b[0m\n\u001b[0m\u001b[1;32m      4\u001b[0m \u001b[0;32mimport\u001b[0m \u001b[0mfiftyone\u001b[0m\u001b[0;34m.\u001b[0m\u001b[0mbrain\u001b[0m \u001b[0;32mas\u001b[0m \u001b[0mfob\u001b[0m\u001b[0;34m\u001b[0m\u001b[0;34m\u001b[0m\u001b[0m\n\u001b[1;32m      5\u001b[0m \u001b[0;32mimport\u001b[0m \u001b[0mos\u001b[0m\u001b[0;34m\u001b[0m\u001b[0;34m\u001b[0m\u001b[0m\n",
      "\u001b[0;31mModuleNotFoundError\u001b[0m: No module named 'fiftyone'"
     ]
    }
   ],
   "source": [
    "!pip install fiftyone\n",
    "from constants import DATA_DIR\n",
    "import fiftyone as fo\n",
    "import fiftyone.brain as fob\n",
    "import os"
   ]
  },
  {
   "cell_type": "code",
   "execution_count": null,
   "metadata": {},
   "outputs": [],
   "source": [
    "!export FIFTYONE_CVAT_USERNAME='tlancaster6'\n",
    "!export FIFTYONE_CVAT_PASSWORD='8mcqdK8#97%v'"
   ]
  },
  {
   "cell_type": "code",
   "execution_count": 2,
   "metadata": {},
   "outputs": [
    {
     "ename": "NameError",
     "evalue": "name 'os' is not defined",
     "output_type": "error",
     "traceback": [
      "\u001b[0;31m---------------------------------------------------------------------------\u001b[0m",
      "\u001b[0;31mNameError\u001b[0m                                 Traceback (most recent call last)",
      "\u001b[0;32m<ipython-input-2-7b5961a26487>\u001b[0m in \u001b[0;36m<module>\u001b[0;34m\u001b[0m\n\u001b[0;32m----> 1\u001b[0;31m \u001b[0mdataset_dir\u001b[0m \u001b[0;34m=\u001b[0m \u001b[0mos\u001b[0m\u001b[0;34m.\u001b[0m\u001b[0mpath\u001b[0m\u001b[0;34m.\u001b[0m\u001b[0mjoin\u001b[0m\u001b[0;34m(\u001b[0m\u001b[0mDATA_DIR\u001b[0m\u001b[0;34m,\u001b[0m \u001b[0;34m'demo'\u001b[0m\u001b[0;34m)\u001b[0m\u001b[0;34m\u001b[0m\u001b[0;34m\u001b[0m\u001b[0m\n\u001b[0m\u001b[1;32m      2\u001b[0m \u001b[0mimg_dir\u001b[0m \u001b[0;34m=\u001b[0m \u001b[0mos\u001b[0m\u001b[0;34m.\u001b[0m\u001b[0mpath\u001b[0m\u001b[0;34m.\u001b[0m\u001b[0mjoin\u001b[0m\u001b[0;34m(\u001b[0m\u001b[0mdataset_dir\u001b[0m\u001b[0;34m,\u001b[0m \u001b[0;34m'images'\u001b[0m\u001b[0;34m)\u001b[0m\u001b[0;34m\u001b[0m\u001b[0;34m\u001b[0m\u001b[0m\n\u001b[1;32m      3\u001b[0m \u001b[0mname\u001b[0m \u001b[0;34m=\u001b[0m \u001b[0;34m'demo'\u001b[0m\u001b[0;34m\u001b[0m\u001b[0;34m\u001b[0m\u001b[0m\n",
      "\u001b[0;31mNameError\u001b[0m: name 'os' is not defined"
     ]
    }
   ],
   "source": [
    "dataset_dir = os.path.join(DATA_DIR, 'demo')\n",
    "img_dir = os.path.join(dataset_dir, 'images')\n",
    "name = 'demo'"
   ]
  },
  {
   "cell_type": "code",
   "execution_count": null,
   "metadata": {},
   "outputs": [],
   "source": [
    "if name in fo.list_datasets():\n",
    "    fo.delete_dataset(name)"
   ]
  },
  {
   "cell_type": "code",
   "execution_count": null,
   "metadata": {},
   "outputs": [],
   "source": [
    "dataset = fo.Dataset.from_dir(\n",
    "    dataset_dir=img_dir,\n",
    "    dataset_type=fo.types.ImageDirectory,\n",
    "    name=name,\n",
    ")"
   ]
  },
  {
   "cell_type": "code",
   "execution_count": null,
   "metadata": {},
   "outputs": [],
   "source": [
    "session = fo.launch_app(dataset)"
   ]
  },
  {
   "cell_type": "code",
   "execution_count": null,
   "metadata": {},
   "outputs": [],
   "source": [
    "anno_key = 'demo_anno'\n",
    "anno_results = dataset.annotate(\n",
    "    anno_key=anno_key,\n",
    "    label_type='detections',\n",
    "    label_field='sex',\n",
    "    classes=['male', 'female'],\n",
    "    launch_editor=True\n",
    ")"
   ]
  }
 ],
 "metadata": {
  "kernelspec": {
   "display_name": "Python 3",
   "language": "python",
   "name": "python3"
  },
  "language_info": {
   "codemirror_mode": {
    "name": "ipython",
    "version": 3
   },
   "file_extension": ".py",
   "mimetype": "text/x-python",
   "name": "python",
   "nbconvert_exporter": "python",
   "pygments_lexer": "ipython3",
   "version": "3.8.5"
  }
 },
 "nbformat": 4,
 "nbformat_minor": 4
}
